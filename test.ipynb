{
 "cells": [
  {
   "cell_type": "code",
   "execution_count": 1,
   "metadata": {},
   "outputs": [
    {
     "name": "stdout",
     "output_type": "stream",
     "text": [
      "Predictions after training:\n",
      "[[0.04100476]\n",
      " [0.96551066]\n",
      " [0.93873488]\n",
      " [0.05692059]]\n"
     ]
    }
   ],
   "source": [
    "import numpy as np\n",
    "\n",
    "# Sigmoid activation function\n",
    "def sigmoid(x):\n",
    "    return 1 / (1 + np.exp(-x))\n",
    "\n",
    "# Derivative of the sigmoid function\n",
    "def sigmoid_derivative(x):\n",
    "    return x * (1 - x)\n",
    "\n",
    "# Define the neural network class\n",
    "class NeuralNetwork:\n",
    "    def __init__(self, input_size, hidden_size, output_size):\n",
    "        # Initialize weights and biases\n",
    "        self.weights_input_hidden = np.random.rand(input_size, hidden_size)\n",
    "        self.weights_hidden_output = np.random.rand(hidden_size, output_size)\n",
    "        self.bias_hidden = np.random.rand(1, hidden_size)\n",
    "        self.bias_output = np.random.rand(1, output_size)\n",
    "\n",
    "    def forward_propagation(self, inputs):\n",
    "        # Perform forward propagation\n",
    "        self.hidden_layer_input = np.dot(inputs, self.weights_input_hidden) + self.bias_hidden\n",
    "        self.hidden_layer_output = sigmoid(self.hidden_layer_input)\n",
    "        self.output_layer_input = np.dot(self.hidden_layer_output, self.weights_hidden_output) + self.bias_output\n",
    "        self.output = sigmoid(self.output_layer_input)\n",
    "\n",
    "    def backward_propagation(self, inputs, targets, learning_rate):\n",
    "        # Compute the error\n",
    "        error = targets - self.output\n",
    "        \n",
    "        # Compute the gradients\n",
    "        output_delta = error * sigmoid_derivative(self.output)\n",
    "        hidden_error = np.dot(output_delta, self.weights_hidden_output.T)\n",
    "        hidden_delta = hidden_error * sigmoid_derivative(self.hidden_layer_output)\n",
    "        \n",
    "        # Update the weights and biases\n",
    "        self.weights_hidden_output += np.dot(self.hidden_layer_output.T, output_delta) * learning_rate\n",
    "        self.weights_input_hidden += np.dot(inputs.T, hidden_delta) * learning_rate\n",
    "        self.bias_output += np.sum(output_delta, axis=0) * learning_rate\n",
    "        self.bias_hidden += np.sum(hidden_delta, axis=0) * learning_rate\n",
    "\n",
    "# Define the dataset\n",
    "X = np.array([[0, 0], [0, 1], [1, 0], [1, 1]])\n",
    "y = np.array([[0], [1], [1], [0]])\n",
    "\n",
    "# Define the neural network\n",
    "input_size = 2\n",
    "hidden_size = 4\n",
    "output_size = 1\n",
    "learning_rate = 0.1\n",
    "nn = NeuralNetwork(input_size, hidden_size, output_size)\n",
    "\n",
    "# Training the neural network\n",
    "epochs = 10000\n",
    "for epoch in range(epochs):\n",
    "    nn.forward_propagation(X)\n",
    "    nn.backward_propagation(X, y, learning_rate)\n",
    "\n",
    "# Predictions after training\n",
    "nn.forward_propagation(X)\n",
    "predictions = nn.output\n",
    "print(\"Predictions after training:\")\n",
    "print(predictions)\n"
   ]
  }
 ],
 "metadata": {
  "kernelspec": {
   "display_name": "Python 3",
   "language": "python",
   "name": "python3"
  },
  "language_info": {
   "codemirror_mode": {
    "name": "ipython",
    "version": 3
   },
   "file_extension": ".py",
   "mimetype": "text/x-python",
   "name": "python",
   "nbconvert_exporter": "python",
   "pygments_lexer": "ipython3",
   "version": "3.12.1"
  }
 },
 "nbformat": 4,
 "nbformat_minor": 2
}
