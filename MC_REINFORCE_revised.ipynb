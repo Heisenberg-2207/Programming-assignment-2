{
 "cells": [
  {
   "cell_type": "code",
   "execution_count": 15,
   "metadata": {},
   "outputs": [],
   "source": [
    "#Import required libraries\n",
    "\n",
    "import argparse\n",
    "import gym\n",
    "import numpy as np\n",
    "from itertools import count\n",
    "from collections import namedtuple\n",
    "import matplotlib.pyplot as plt\n",
    "import torch\n",
    "import torch.nn as nn\n",
    "import torch.nn.functional as F\n",
    "import torch.optim as optim\n",
    "from torch.distributions import Categorical"
   ]
  },
  {
   "cell_type": "code",
   "execution_count": 16,
   "metadata": {},
   "outputs": [],
   "source": [
    "#Set constants for training\n",
    "seed = 543\n",
    "log_interval = 100\n",
    "gamma = 0.99\n",
    "\n",
    "env = gym.make('CartPole-v1')\n",
    "env.reset()\n",
    "torch.manual_seed(seed)\n",
    "state_shape = env.observation_space.shape[0]\n",
    "no_of_actions = env.action_space.n\n",
    "SavedAction = namedtuple('SavedAction', ['log_prob', 'value'])\n"
   ]
  },
  {
   "cell_type": "code",
   "execution_count": 17,
   "metadata": {},
   "outputs": [],
   "source": [
    "\n",
    "class Policy(nn.Module):\n",
    "    \"\"\"\n",
    "    implements both actor and critic in one model\n",
    "    \"\"\"\n",
    "    def __init__(self,state_size,action_size):\n",
    "        super(Policy, self).__init__()\n",
    "        self.affine1 = nn.Linear(state_size, 128)\n",
    "\n",
    "        # actor's layer\n",
    "        self.action_head = nn.Linear(128, action_size)\n",
    "\n",
    "        # critic's layer\n",
    "        self.value_head = nn.Linear(128, 1)\n",
    "\n",
    "        # action & reward buffer\n",
    "        self.saved_actions = []\n",
    "        self.rewards = []\n",
    "\n",
    "    def forward(self, x):\n",
    "        \"\"\"\n",
    "        forward of both actor and critic\n",
    "        \"\"\"\n",
    "        x = F.relu(self.affine1(x))\n",
    "\n",
    "        # actor: choses action to take from state s_t\n",
    "        # by returning probability of each action\n",
    "        action_prob = F.softmax(self.action_head(x), dim=-1)\n",
    "\n",
    "        # critic: evaluates being in the state s_t\n",
    "        state_values = self.value_head(x)\n",
    "\n",
    "        # return values for both actor and critic as a tuple of 2 values:\n",
    "        # 1. a list with the probability of each action over the action space\n",
    "        # 2. the value from state s_t\n",
    "        return action_prob, state_values\n"
   ]
  },
  {
   "cell_type": "code",
   "execution_count": 18,
   "metadata": {},
   "outputs": [],
   "source": [
    "model = Policy(state_shape,no_of_actions)\n",
    "optimizer = optim.Adam(model.parameters(), lr=3e-2)\n",
    "eps = np.finfo(np.float32).eps.item()"
   ]
  },
  {
   "cell_type": "code",
   "execution_count": 19,
   "metadata": {},
   "outputs": [],
   "source": [
    "def select_action(state):\n",
    "    state = torch.from_numpy(state).float()\n",
    "    probs, state_value = model(state)\n",
    "    # create a categorical distribution over the list of probabilities of actions\n",
    "    m = Categorical(probs)\n",
    "    # and sample an action using the distribution\n",
    "    action = m.sample()\n",
    "    # save to action buffer\n",
    "    model.saved_actions.append(SavedAction(m.log_prob(action), state_value))\n",
    "    # the action to take (left or right)\n",
    "    return action.item()\n",
    "\n",
    "\n",
    "def finish_episode():\n",
    "    R = 0\n",
    "    saved_actions = model.saved_actions\n",
    "    policy_losses = [] # list to save actor (policy) loss\n",
    "    #value_losses = [] # list to save critic (value) loss\n",
    "    returns = [] # list to save the true values\n",
    "    # calculate the true value using rewards returned from the environment\n",
    "    for r in model.rewards[::-1]:\n",
    "        # calculate the discounted value\n",
    "        R = r + gamma * R\n",
    "        returns.insert(0, R)\n",
    "    returns = torch.tensor(returns)\n",
    "    returns = (returns - returns.mean()) / (returns.std() + eps)\n",
    "    for (log_prob, value), R in zip(saved_actions, returns):\n",
    "        #advantage = R - value.item()\n",
    "        advantage = R \n",
    "        # calculate actor (policy) loss\n",
    "        policy_losses.append(-log_prob * advantage)\n",
    "        # calculate critic (value) loss using L1 smooth loss\n",
    "        #value_losses.append(F.smooth_l1_loss(value, torch.tensor([R])))\n",
    "    # reset gradients\n",
    "    optimizer.zero_grad()\n",
    "    # sum up all the values of policy_losses and value_losses\n",
    "    loss = torch.stack(policy_losses).sum()\n",
    "    # perform backprop\n",
    "    loss.backward()\n",
    "    optimizer.step()\n",
    "    # reset rewards and action buffer\n",
    "    del model.rewards[:]\n",
    "    del model.saved_actions[:]\n",
    "\n",
    "def train():\n",
    "    running_reward = 10\n",
    "    # run infinitely many episodes\n",
    "    for i_episode in range(2000):\n",
    "        # reset environment and episode reward\n",
    "        state = env.reset()\n",
    "        ep_reward = 0\n",
    "        # for each episode, only run 9999 steps so that we don't\n",
    "        # infinite loop while learning\n",
    "        for t in range(1, 10000):\n",
    "            # select action from policy\n",
    "            action = select_action(state)\n",
    "            # take the action\n",
    "            state, reward, done, _ = env.step(action)\n",
    "            model.rewards.append(reward)\n",
    "            ep_reward += reward\n",
    "            if done:\n",
    "                break\n",
    "        finish_episode()\n",
    "        # update cumulative reward\n",
    "        running_reward = 0.05 * ep_reward + (1 - 0.05) * running_reward\n",
    "        \n",
    "        if i_episode % log_interval == 0:\n",
    "            print('Episode {}\\tLast reward: {:.2f}\\tAverage reward: {:.2f}'.format(\n",
    "                  i_episode, ep_reward, running_reward))\n",
    "            avg_reward.append(running_reward)\n",
    "            \n",
    "        # check if we have \"solved\" the cart pole problem\n",
    "        if running_reward > env.spec.reward_threshold:\n",
    "            print(\"Solved! Running reward is now {} and \"\n",
    "                  \"the last episode runs to {} time steps!\".format(running_reward, t))\n",
    "            break"
   ]
  },
  {
   "cell_type": "code",
   "execution_count": 20,
   "metadata": {},
   "outputs": [
    {
     "name": "stdout",
     "output_type": "stream",
     "text": [
      "Episode 0\tLast reward: 21.00\tAverage reward: 10.55\n",
      "Episode 100\tLast reward: 9.00\tAverage reward: 9.08\n",
      "Episode 200\tLast reward: 9.00\tAverage reward: 9.43\n",
      "Episode 300\tLast reward: 9.00\tAverage reward: 9.40\n",
      "Episode 400\tLast reward: 9.00\tAverage reward: 9.32\n",
      "Episode 500\tLast reward: 9.00\tAverage reward: 9.14\n",
      "Episode 600\tLast reward: 9.00\tAverage reward: 9.31\n",
      "Episode 700\tLast reward: 10.00\tAverage reward: 9.45\n",
      "Episode 800\tLast reward: 9.00\tAverage reward: 9.34\n",
      "Episode 900\tLast reward: 10.00\tAverage reward: 9.54\n",
      "Episode 1000\tLast reward: 9.00\tAverage reward: 9.19\n",
      "Episode 1100\tLast reward: 9.00\tAverage reward: 9.30\n",
      "Episode 1200\tLast reward: 9.00\tAverage reward: 9.45\n",
      "Episode 1300\tLast reward: 10.00\tAverage reward: 9.52\n",
      "Episode 1400\tLast reward: 9.00\tAverage reward: 9.39\n",
      "Episode 1500\tLast reward: 9.00\tAverage reward: 9.27\n",
      "Episode 1600\tLast reward: 10.00\tAverage reward: 9.54\n",
      "Episode 1700\tLast reward: 10.00\tAverage reward: 9.25\n",
      "Episode 1800\tLast reward: 9.00\tAverage reward: 9.37\n",
      "Episode 1900\tLast reward: 8.00\tAverage reward: 9.40\n"
     ]
    },
    {
     "data": {
      "image/png": "[encoded data removed]",
      "text/plain": [
       "<Figure size 640x480 with 1 Axes>"
      ]
     },
     "metadata": {},
     "output_type": "display_data"
    }
   ],
   "source": [
    "avg_reward =[]\n",
    "train()\n",
    "''' plt.plot( np.arange(0, len(avg_reward), 1), avg_reward)\n",
    "plt.title(\"Average Reward vs episodes, policy: eps greedy\")\n",
    "plt.show() '''"
   ]
  }
 ],
 "metadata": {
  "interpreter": {
   "hash": "916dbcbb3f70747c44a77c7bcd40155683ae19c65e1c03b4aa3499c5328201f1"
  },
  "kernelspec": {
   "display_name": "Python 3.8.10 64-bit",
   "language": "python",
   "name": "python3"
  },
  "language_info": {
   "codemirror_mode": {
    "name": "ipython",
    "version": 3
   },
   "file_extension": ".py",
   "mimetype": "text/x-python",
   "name": "python",
   "nbconvert_exporter": "python",
   "pygments_lexer": "ipython3",
   "version": "3.12.1"
  },
  "orig_nbformat": 4
 },
 "nbformat": 4,
 "nbformat_minor": 2
}
